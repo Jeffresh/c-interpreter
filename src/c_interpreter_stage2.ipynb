{
 "metadata": {
  "language_info": {
   "codemirror_mode": {
    "name": "ipython",
    "version": 3
   },
   "file_extension": ".py",
   "mimetype": "text/x-python",
   "name": "python",
   "nbconvert_exporter": "python",
   "pygments_lexer": "ipython3",
   "version": 3
  },
  "orig_nbformat": 2
 },
 "nbformat": 4,
 "nbformat_minor": 2,
 "cells": [
  {
   "source": [
    "# C interpreter\n",
    "\n",
    "# Second Stage\n",
    "\n",
    "Design a grammar using an aupward translator that accepts the following inputs from the C language:\n",
    "- Conditional sentences (if - else)\n",
    "- *printf* funcion"
   ],
   "cell_type": "markdown",
   "metadata": {}
  },
  {
   "source": [
    "## Grammar design\n",
    "\n",
    "\n",
    "### C Conditional statements (if - else)\n",
    "\n",
    "In *C* the base structure of the conditional statement is:\n",
    "\n",
    "``` \n",
    "    if(condition)\n",
    "        instruction ;\n",
    "```\n",
    "\n",
    "Or could be:\n",
    "\n",
    "```\n",
    "    if(condition) {\n",
    "        instruction ;\n",
    "        instruction ;\n",
    "        ...\n",
    "        instruction ;\n",
    "    }\n",
    "```\n",
    "\n",
    "The condition in *C* could be any expression.\n",
    "\n",
    "\n",
    "We can represent this with the following grammar:\n",
    "\n",
    "- exprIF -> if `(` condition `)` instruction `;`\n",
    "- condition -> expr\n",
    "- instruction -> `{` exprins `;` `}`\n",
    "- instruction -> expr\n",
    "- exprins -> exprins `;` expr\n",
    "- exprins -> expr\n"
   ],
   "cell_type": "markdown",
   "metadata": {}
  },
  {
   "source": [
    "Now we can include this into our grammar and test it, remember that\n",
    "the condition and the instructions of the *if* statement has more priority so: \n",
    "\n",
    "- exprIF -> if `(` condition `)` instruction\n",
    "- condition -> expr\n",
    "- instruction -> `{` exprins  `}`\n",
    "- instruction -> def\n",
    "- exprins -> exprins `;` def\n",
    "- exprins -> asign\n",
    "\n",
    "\n",
    "- def -> asign `;`\n",
    "- asign -> ID `=` asign\n",
    "- asign -> expr\n",
    "- expr -> exprOR\n",
    "- exprOR -> exprOR `||` exprAND\n",
    "- exprOR -> exprAND\n",
    "- exprAND -> exprAND `&&` exprE\n",
    "- exprAND -> exprE\n",
    "- exprE -> exprE `[==, !=]` exprC\n",
    "- exprE -> exprC\n",
    "- exprC -> exprC `[<, <=, >, >=]` exprA\n",
    "- exprC -> exprA\n",
    "- exprA -> exprA `[+, -] ` add\n",
    "- exprA -> add\n",
    "- add -> add `[*, /]` fact\n",
    "- add -> fact\n",
    "- fact -> `-` fact\n",
    "- fact -> num\n",
    "- fact -> `ID`"
   ],
   "cell_type": "markdown",
   "metadata": {}
  },
  {
   "source": [],
   "cell_type": "markdown",
   "metadata": {}
  }
 ]
}