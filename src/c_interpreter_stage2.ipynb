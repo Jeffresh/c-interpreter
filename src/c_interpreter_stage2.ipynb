{
 "metadata": {
  "language_info": {
   "codemirror_mode": {
    "name": "ipython",
    "version": 3
   },
   "file_extension": ".py",
   "mimetype": "text/x-python",
   "name": "python",
   "nbconvert_exporter": "python",
   "pygments_lexer": "ipython3",
   "version": "3.8.6-final"
  },
  "orig_nbformat": 2,
  "kernelspec": {
   "name": "Python 3.8.6 64-bit ('.env')",
   "display_name": "Python 3.8.6 64-bit ('.env')",
   "metadata": {
    "interpreter": {
     "hash": "fea7d090d7f08540b567637e36dfbc75bfa7df7c6c7bc7b97753f3e7b84a3bdc"
    }
   }
  }
 },
 "nbformat": 4,
 "nbformat_minor": 2,
 "cells": [
  {
   "source": [
    "# C Interpreter\n",
    "\n",
    "# Second Stage\n",
    "\n",
    "Design a grammar using an aupward translator that accepts the following inputs from the C language:\n",
    "- Conditional sentences (if - else)\n",
    "- *printf* funcion"
   ],
   "cell_type": "markdown",
   "metadata": {}
  },
  {
   "source": [
    "## Grammar design\n",
    "\n",
    "\n",
    "### C Conditional statements (if - else)\n",
    "\n",
    "In *C* the base structure of the conditional statement is:\n",
    "\n",
    "``` \n",
    "    if(condition)\n",
    "        instruction ;\n",
    "```\n",
    "\n",
    "Or could be:\n",
    "\n",
    "```\n",
    "    if(condition) {\n",
    "        instruction ;\n",
    "        instruction ;\n",
    "        ...\n",
    "        instruction ;\n",
    "    }\n",
    "```\n",
    "\n",
    "The condition in *C* could be any expression.\n",
    "\n",
    "\n",
    "We can represent this with the following grammar:\n",
    "\n",
    "- exprIF -> if `(` condition `)` instruction `;`\n",
    "- condition -> expr\n",
    "- instruction -> `{` exprins `;` `}`\n",
    "- instruction -> expr\n",
    "- exprins -> exprins `;` expr\n",
    "- exprins -> expr\n"
   ],
   "cell_type": "markdown",
   "metadata": {}
  },
  {
   "source": [
    "Now we can include this into our grammar and test it, remember that\n",
    "the condition and the instructions of the *if* statement has more priority so: \n",
    "\n",
    "- exprIF -> if `(` condition `)` instruction\n",
    "- condition -> expr\n",
    "- instruction -> `{` exprins `;` `}`\n",
    "- instruction -> def\n",
    "- exprins -> exprins `;` asing\n",
    "- exprins -> asign\n",
    "\n",
    "\n",
    "- def -> asign `;`\n",
    "- asign -> ID `=` asign\n",
    "- asign -> expr\n",
    "- expr -> exprOR\n",
    "- exprOR -> exprOR `||` exprAND\n",
    "- exprOR -> exprAND\n",
    "- exprAND -> exprAND `&&` exprE\n",
    "- exprAND -> exprE\n",
    "- exprE -> exprE `[==, !=]` exprC\n",
    "- exprE -> exprC\n",
    "- exprC -> exprC `[<, <=, >, >=]` exprA\n",
    "- exprC -> exprA\n",
    "- exprA -> exprA `[+, -] ` add\n",
    "- exprA -> add\n",
    "- add -> add `[*, /]` fact\n",
    "- add -> fact\n",
    "- fact -> `-` fact\n",
    "- fact -> num\n",
    "- fact -> `ID`"
   ],
   "cell_type": "markdown",
   "metadata": {}
  },
  {
   "source": [
    "## Implementing the lexical analyzer (Lexer)\n",
    "\n",
    "We will reuse the main lexical analyzer implementation, adding the *if* logic necessary to process the new rules"
   ],
   "cell_type": "markdown",
   "metadata": {}
  },
  {
   "cell_type": "code",
   "execution_count": 2,
   "metadata": {},
   "outputs": [],
   "source": [
    "from sly import Lexer\n",
    "\n",
    "class Scanner(Lexer):\n",
    "    tokens = {ID, CNUM, EQ, NEQ, OR, AND, LEQ, GEQ, IF}\n",
    "    literals ={'=', '<', '>', '/', '!', '+', '-' , '*', ';', '{', '}', '(', ')'}\n",
    "\n",
    "    # Ignore whitespace and tabulations\n",
    "\n",
    "    ignore = ' \\t'\n",
    "\n",
    "    # Regular expressions rules for tokens\n",
    "\n",
    "    ID = r'[a-zA-Z][\\w_]*'\n",
    "    EQ = r'=='\n",
    "    NEQ = r'!='\n",
    "    GEQ = r'>='\n",
    "    LEQ = r'<='\n",
    "    AND = r'&&'\n",
    "    OR = r'\\|\\|'\n",
    "\n",
    "    # Special cases\n",
    "    ID['if'] = IF\n",
    "\n",
    "    @_(r'\\d+')\n",
    "    def CNUM(self, t):\n",
    "        t.value = int(t.value)\n",
    "        return t\n",
    "\n",
    "    # Error handling rule\n",
    "\n",
    "    def error(self, t):\n",
    "        print('<-'*10,\"Illegal character '{}'\".format(t.value[0]), '->'*10)\n",
    "        self.index += 1\n",
    "        t.type='Illegal'\n",
    "        t.value =t.value[0]\n",
    "        return t"
   ]
  },
  {
   "source": [
    "## Testing the lexical analyzer (Lexer)\n"
   ],
   "cell_type": "markdown",
   "metadata": {}
  },
  {
   "source": [
    "### Importing data"
   ],
   "cell_type": "markdown",
   "metadata": {}
  },
  {
   "cell_type": "code",
   "execution_count": 66,
   "metadata": {},
   "outputs": [
    {
     "output_type": "execute_result",
     "data": {
      "text/plain": [
       "                                 if_sentences\n",
       "0             if(a > 5) { b = 4; c = 5 + b; }\n",
       "1                           if(b < a) c = 4; \n",
       "2  if(3 > 5) { b = 4; c = 5 + b; d = 5 + 4 ;}"
      ],
      "text/html": "<div>\n<style scoped>\n    .dataframe tbody tr th:only-of-type {\n        vertical-align: middle;\n    }\n\n    .dataframe tbody tr th {\n        vertical-align: top;\n    }\n\n    .dataframe thead th {\n        text-align: right;\n    }\n</style>\n<table border=\"1\" class=\"dataframe\">\n  <thead>\n    <tr style=\"text-align: right;\">\n      <th></th>\n      <th>if_sentences</th>\n    </tr>\n  </thead>\n  <tbody>\n    <tr>\n      <th>0</th>\n      <td>if(a &gt; 5) { b = 4; c = 5 + b; }</td>\n    </tr>\n    <tr>\n      <th>1</th>\n      <td>if(b &lt; a) c = 4;</td>\n    </tr>\n    <tr>\n      <th>2</th>\n      <td>if(3 &gt; 5) { b = 4; c = 5 + b; d = 5 + 4 ;}</td>\n    </tr>\n  </tbody>\n</table>\n</div>"
     },
     "metadata": {},
     "execution_count": 66
    }
   ],
   "source": [
    "import pandas as pd \n",
    "\n",
    "data = pd.read_csv('../assets/testing/if_sentences.csv')\n",
    "data[['if_sentences']]"
   ]
  },
  {
   "cell_type": "code",
   "execution_count": 67,
   "metadata": {},
   "outputs": [
    {
     "output_type": "stream",
     "name": "stdout",
     "text": [
      "--------------------------------------------------------------------------------\n0 Lexically Testing sentence: 'if(a > 5) { b = 4; c = 5 + b; }'\n--------------------------------------------------------------------------------\n type = 'IF', value = 'if'\n type = '(', value = '('\n type = 'ID', value = 'a'\n type = '>', value = '>'\n type = 'CNUM', value = '5'\n type = ')', value = ')'\n type = '{', value = '{'\n type = 'ID', value = 'b'\n type = '=', value = '='\n type = 'CNUM', value = '4'\n type = ';', value = ';'\n type = 'ID', value = 'c'\n type = '=', value = '='\n type = 'CNUM', value = '5'\n type = '+', value = '+'\n type = 'ID', value = 'b'\n type = ';', value = ';'\n type = '}', value = '}'\n--------------------------------------------------------------------------------\n1 Lexically Testing sentence: 'if(b < a) c = 4; '\n--------------------------------------------------------------------------------\n type = 'IF', value = 'if'\n type = '(', value = '('\n type = 'ID', value = 'b'\n type = '<', value = '<'\n type = 'ID', value = 'a'\n type = ')', value = ')'\n type = 'ID', value = 'c'\n type = '=', value = '='\n type = 'CNUM', value = '4'\n type = ';', value = ';'\n--------------------------------------------------------------------------------\n2 Lexically Testing sentence: 'if(3 > 5) { b = 4; c = 5 + b; d = 5 + 4 ;}'\n--------------------------------------------------------------------------------\n type = 'IF', value = 'if'\n type = '(', value = '('\n type = 'CNUM', value = '3'\n type = '>', value = '>'\n type = 'CNUM', value = '5'\n type = ')', value = ')'\n type = '{', value = '{'\n type = 'ID', value = 'b'\n type = '=', value = '='\n type = 'CNUM', value = '4'\n type = ';', value = ';'\n type = 'ID', value = 'c'\n type = '=', value = '='\n type = 'CNUM', value = '5'\n type = '+', value = '+'\n type = 'ID', value = 'b'\n type = ';', value = ';'\n type = 'ID', value = 'd'\n type = '=', value = '='\n type = 'CNUM', value = '5'\n type = '+', value = '+'\n type = 'CNUM', value = '4'\n type = ';', value = ';'\n type = '}', value = '}'\n"
     ]
    }
   ],
   "source": [
    "lexer = Scanner()\n",
    "sentences = data['if_sentences'].values\n",
    "pass_or_not = []\n",
    "all_token_pass = True\n",
    "\n",
    "for index, sentence in enumerate(sentences):\n",
    "    print('-' * 80,\"{} Lexically Testing sentence: '{}'\".format(index, sentence),'-' * 80, sep='\\n')\n",
    "    for token in lexer.tokenize(sentence):\n",
    "        print(\" type = '{}', value = '{}'\".format(token.type, token.value))\n",
    "        if all_token_pass and 'Illegal' in token.type:\n",
    "            all_token_pass = False\n",
    "    \n",
    "    pass_or_not.append('Pass') if all_token_pass else pass_or_not.append('FAIL')\n",
    "    all_token_pass = True\n",
    "\n",
    "data['Test'] = pass_or_not"
   ]
  },
  {
   "cell_type": "code",
   "execution_count": 5,
   "metadata": {},
   "outputs": [
    {
     "output_type": "execute_result",
     "data": {
      "text/plain": [
       "                      if_sentences  Test\n",
       "0  if(a > 5) { b = 4; c = 5 + b; }  Pass\n",
       "1                if(b < a) c = 4;   Pass"
      ],
      "text/html": "<div>\n<style scoped>\n    .dataframe tbody tr th:only-of-type {\n        vertical-align: middle;\n    }\n\n    .dataframe tbody tr th {\n        vertical-align: top;\n    }\n\n    .dataframe thead th {\n        text-align: right;\n    }\n</style>\n<table border=\"1\" class=\"dataframe\">\n  <thead>\n    <tr style=\"text-align: right;\">\n      <th></th>\n      <th>if_sentences</th>\n      <th>Test</th>\n    </tr>\n  </thead>\n  <tbody>\n    <tr>\n      <th>0</th>\n      <td>if(a &gt; 5) { b = 4; c = 5 + b; }</td>\n      <td>Pass</td>\n    </tr>\n    <tr>\n      <th>1</th>\n      <td>if(b &lt; a) c = 4;</td>\n      <td>Pass</td>\n    </tr>\n  </tbody>\n</table>\n</div>"
     },
     "metadata": {},
     "execution_count": 5
    }
   ],
   "source": [
    "data"
   ]
  },
  {
   "source": [
    "## Implementing the Grammar and Semantic Analyzer (Parser)"
   ],
   "cell_type": "markdown",
   "metadata": {}
  },
  {
   "cell_type": "code",
   "execution_count": 158,
   "metadata": {},
   "outputs": [],
   "source": [
    "from sly import Parser\n",
    "\n",
    "class CInterpreterParser(Parser):\n",
    "    tokens = Scanner.tokens\n",
    "\n",
    "    def __init__(self):\n",
    "        self.table = {}\n",
    "    \n",
    "    # - exprIF -> if `(` condition `)` instruction\n",
    "    # - condition -> expr\n",
    "    # - instruction -> `{` exprins; `}`\n",
    "    # - instruction -> def\n",
    "    # - exprins -> exprins `;` asign \n",
    "    # - exprins -> asign\n",
    "\n",
    "    # - def -> asign `;`\n",
    "    # - asign -> ID `=` asign\n",
    "    # - asign -> expr\n",
    "    # - expr -> exprOR\n",
    "    # - exprOR -> exprOR `||` exprAND\n",
    "    # - exprOR -> exprAND\n",
    "    # - exprAND -> exprAND `&&` exprE\n",
    "    # - exprAND -> exprE\n",
    "    # - exprE -> exprE `[==, !=]` exprC\n",
    "    # - exprE -> exprC\n",
    "    # - exprC -> exprC `[<, <=, >, >=]` exprA\n",
    "    # - exprC -> exprA\n",
    "    # - exprA -> exprA `[+, -] ` add\n",
    "    # - exprA -> add\n",
    "    # - add -> add `[*, /]` fact\n",
    "    # - add -> fact\n",
    "    # - fact -> `-` fact\n",
    "    # - fact -> num\n",
    "    # - fact -> `ID`\n",
    "\n",
    "    @_('IF \"(\" condition \")\" instruction')\n",
    "    def exprIF(self, p):\n",
    "        print('if(', p.condition, ')')\n",
    "        if p.condition:\n",
    "            print(p.instruction)\n",
    "\n",
    "    @_('expr')\n",
    "    def condition(self, p):\n",
    "        return p.expr\n",
    "\n",
    "\n",
    "    @_('\"{\" exprins \";\" \"}\"')\n",
    "    def instruction(self, p):\n",
    "        return p.exprins + ' ;'\n",
    "\n",
    "    @_('def_')\n",
    "    def instruction(self, p):\n",
    "        return p.def_\n",
    "\n",
    "    @_('exprins \";\" asign')\n",
    "    def exprins(self, p):\n",
    "        return str(p.exprins) +  \" ; \" + str(p.asign)\n",
    "\n",
    "    @_('asign')\n",
    "    def exprins(self, p):\n",
    "        return p.asign\n",
    "\n",
    "    @_('asign \";\"')\n",
    "    def def_(self, p):\n",
    "        return str(p.asign) + ' ;'\n",
    "\n",
    "    @_('ID \"=\" asign')\n",
    "    def asign(self, p):\n",
    "        self.table[p.ID] = p.asign  \n",
    "        return p.ID + ' = ' + str(p.asign)\n",
    "\n",
    "    @_('expr')\n",
    "    def asign(self, p):\n",
    "        return p.expr\n",
    "\n",
    "    @_('exprOR')\n",
    "    def expr(self, p):\n",
    "        return p.exprOR\n",
    "\n",
    "    @_('exprOR OR exprAND')\n",
    "    def exprOR(self, p):\n",
    "        return bool(p.exprOR) | bool(p.exprAND)\n",
    "\n",
    "    @_('exprAND')\n",
    "    def exprOR(self, p):\n",
    "        return p.exprAND\n",
    "\n",
    "    @_('exprAND AND exprE')\n",
    "    def exprAND(self, p):\n",
    "        return bool(p.exprAND) & bool(p.exprE)\n",
    "\n",
    "    @_('exprE') \n",
    "    def exprAND(self, p):\n",
    "        return p.exprE\n",
    "\n",
    "    @_('exprE NEQ exprC')\n",
    "    def exprE(self, p):\n",
    "        return p.exprE != p.exprC\n",
    "\n",
    "    @_('exprE EQ exprC')\n",
    "    def exprE(self, p):\n",
    "        return p.exprE == p.exprC\n",
    "\n",
    "    @_('exprC')\n",
    "    def exprE(self, p):\n",
    "        print(p.exprC)\n",
    "        return p.exprC\n",
    "    \n",
    "    @_('exprC GEQ exprA')\n",
    "    def exprC(self, p):\n",
    "        return p.exprC < p.exprA\n",
    "\n",
    "    @_('exprC \">\" exprA')\n",
    "    def exprC(self, p):\n",
    "        return p.exprC > p.exprA\n",
    "\n",
    "    @_('exprC LEQ exprA')\n",
    "    def exprC(self, p):\n",
    "        return p.exprC <= p.exprA\n",
    "\n",
    "    @_('exprC \"<\" exprA')\n",
    "    def exprC(self, p):\n",
    "        return p.exprC <p.exprA\n",
    "\n",
    "    @_('exprA')\n",
    "    def exprC(self, p):\n",
    "        return p.exprA\n",
    "\n",
    "    @_('exprA \"-\" add')\n",
    "    def exprA(self, p):\n",
    "        return p.exprA - p.add\n",
    "    \n",
    "    @_('exprA \"+\" add')\n",
    "    def exprA(self, p):\n",
    "        return p.exprA + p.add\n",
    "\n",
    "    @_('add')\n",
    "    def exprA(self, p):\n",
    "        return p.add\n",
    "\n",
    "    @_('add \"/\" fact')\n",
    "    def add(self, p):\n",
    "        return p.add / p.fact\n",
    "\n",
    "    @_('add \"*\" fact')\n",
    "    def add(self, p):\n",
    "        return p.add * p.fact\n",
    "\n",
    "    @_('fact')\n",
    "    def add(self, p):\n",
    "        return p.fact\n",
    "\n",
    "    @_('\"-\" fact')\n",
    "    def fact(self, p):\n",
    "        return -p.fact\n",
    "\n",
    "    @_('CNUM')\n",
    "    def fact(self, p):\n",
    "        return p.CNUM\n",
    "\n",
    "    @_('ID')\n",
    "    def fact(self, p):\n",
    "        try:\n",
    "            return self.table[p.ID]\n",
    "        except LookupError:\n",
    "            print(\"Undefined name {}\".format(p.ID))\n",
    "            return 0\n"
   ]
  },
  {
   "cell_type": "code",
   "execution_count": 160,
   "metadata": {},
   "outputs": [
    {
     "output_type": "stream",
     "name": "stdout",
     "text": [
      "False\n4\n7\n3\nif( False )\n"
     ]
    }
   ],
   "source": [
    "if __name__ == '__main__':\n",
    "    lexer = Scanner()\n",
    "    parser = CInterpreterParser()\n",
    "    string = \"if(2 > 5) { b = 4; c = 3 + b; p = 3; }\"\n",
    "    parser.parse(lexer.tokenize(string))"
   ]
  },
  {
   "cell_type": "code",
   "execution_count": 161,
   "metadata": {},
   "outputs": [
    {
     "output_type": "execute_result",
     "data": {
      "text/plain": [
       "{'b': 4, 'c': 7, 'p': 3}"
      ]
     },
     "metadata": {},
     "execution_count": 161
    }
   ],
   "source": [
    "parser.table"
   ]
  }
 ]
}