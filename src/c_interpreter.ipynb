{
 "metadata": {
  "language_info": {
   "codemirror_mode": {
    "name": "ipython",
    "version": 3
   },
   "file_extension": ".py",
   "mimetype": "text/x-python",
   "name": "python",
   "nbconvert_exporter": "python",
   "pygments_lexer": "ipython3",
   "version": "3.8.6-final"
  },
  "orig_nbformat": 2,
  "kernelspec": {
   "name": "Python 3.8.6 64-bit ('.env')",
   "display_name": "Python 3.8.6 64-bit ('.env')",
   "metadata": {
    "interpreter": {
     "hash": "fea7d090d7f08540b567637e36dfbc75bfa7df7c6c7bc7b97753f3e7b84a3bdc"
    }
   }
  }
 },
 "nbformat": 4,
 "nbformat_minor": 2,
 "cells": [
  {
   "source": [
    "# C interpreter\n",
    "\n",
    "### 1. First aproximation\n",
    "\n",
    "Design a agrammar using an upward translation that accepts the following inputs from the C language:\n",
    "\n",
    "- Assignment statements `(a = 5, a = b = c = 5)`\n",
    "- Comparison operators `(==, <=, >=, !=)`\n",
    "- Logical Operators `(&&, ||, !)`\n",
    "- Arithmetic operators `(+, - , *, / and unary minus)`\n",
    "- Variables and numerical constants `(a, 5)`\n",
    "\n"
   ],
   "cell_type": "markdown",
   "metadata": {}
  },
  {
   "source": [
    "## C operator precedence\n",
    "\n",
    "The C operator predecence that we have to implement in our grammar is in this precedence order:\n",
    "\n",
    "1. Variables and numerical constants\n",
    "2. Unary minus and Logical NOT\n",
    "3. Arithmetic operators    \n",
    "    - Multiplication, division, and reminder\n",
    "    - addition and subtraction\n",
    "4. Logical operators\n",
    "    - equals and not equals\n",
    "    - Logical AND \n",
    "    - Logical OR\n",
    "5.  Assignment statements"
   ],
   "cell_type": "markdown",
   "metadata": {}
  }
 ]
}