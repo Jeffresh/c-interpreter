{
 "metadata": {
  "language_info": {
   "codemirror_mode": {
    "name": "ipython",
    "version": 3
   },
   "file_extension": ".py",
   "mimetype": "text/x-python",
   "name": "python",
   "nbconvert_exporter": "python",
   "pygments_lexer": "ipython3",
   "version": "3.8.6-final"
  },
  "orig_nbformat": 2,
  "kernelspec": {
   "name": "Python 3.8.6 64-bit ('.env')",
   "display_name": "Python 3.8.6 64-bit ('.env')",
   "metadata": {
    "interpreter": {
     "hash": "fea7d090d7f08540b567637e36dfbc75bfa7df7c6c7bc7b97753f3e7b84a3bdc"
    }
   }
  }
 },
 "nbformat": 4,
 "nbformat_minor": 2,
 "cells": [
  {
   "source": [
    "# C interpreter\n",
    "\n",
    "# First Stage\n",
    "\n",
    "Design a grammar using an upward translation that accepts the following inputs from the C language:\n",
    "\n",
    "- Assignment statements `(a = 5, a = b = c = 5)`\n",
    "- Comparison operators `(==, <=, >=, !=)`\n",
    "- Logical Operators `(&&, ||, !)`\n",
    "- Arithmetic operators `(+, - , *, / and unary minus)`\n",
    "- Variables and numerical constants `(a, 5)`\n",
    "\n"
   ],
   "cell_type": "markdown",
   "metadata": {}
  },
  {
   "source": [
    "## Grammar design\n",
    "First to design our grammar we have to now the precedence and the associativity of the operators.\n",
    "\n",
    "### C operator precedence\n",
    "\n",
    "The C operator predecence that we have to implement in our grammar is in this precedence order following [C operator Precedence](https://en.cppreference.com/w/c/language/operator_precedence) found in cppreference website:\n",
    "\n",
    "1. Variables and numerical constants\n",
    "2. Unary minus and Logical NOT\n",
    "3. Arithmetic operators    \n",
    "    - Multiplication, division, and reminder\n",
    "    - addition and subtraction\n",
    "4. Comparison operators\n",
    "    - lt, gt, let, get\n",
    "    - equals and not equals\n",
    "4. Logical operators\n",
    "    - Logical AND \n",
    "    - Logical OR\n",
    "5.  Assignment statements\n",
    "\n",
    "### Operator Associativity\n",
    "\n",
    "In the same website we can see the operator associativity in summary:\n",
    "\n",
    "#### Right to Left\n",
    "\n",
    "- Logical NOT and unary minus\n",
    "- Simple asisignment\n",
    "\n",
    "#### Left to Right\n",
    "\n",
    "- Arithmetic operator\n",
    "- Comparison operators \n",
    "- Logical Operators \n"
   ],
   "cell_type": "markdown",
   "metadata": {}
  },
  {
   "source": [
    "### Tokens and non-terminal symbols\n",
    "\n",
    "The non terminal symbols and tokens that we need to represent our language are:\n",
    "- ID: to represent the variables `[a-zA-Z][\\w_]*`\n",
    "- CNUM: Numeric constants to represent the variable values or literal values, integer values for now.\n",
    "- Operators: `[==, <=, >=, !=, &&, ||, !, +, - , *, / and unary minus]`"
   ],
   "cell_type": "markdown",
   "metadata": {}
  },
  {
   "source": [
    "### Grammar design\n",
    "\n",
    "- def -> asign `;`\n",
    "- asign -> ID `=` asign\n",
    "- asign -> expr\n",
    "- expr -> exprOR\n",
    "- exprOR -> exprOR `||` exprAND\n",
    "- exprOR -> exprAND\n",
    "- exprAND -> exprAND `&&` exprE\n",
    "- exprAND -> exprE\n",
    "- exprE -> exprE `[==, !=]` exprC\n",
    "- exprE -> exprC\n",
    "- exprC -> exprC `[<, <=, >, >=]` exprA\n",
    "- exprC -> exprA\n",
    "- exprA -> exprA `[+, -] ` add\n",
    "- exprA -> add\n",
    "- add -> add `[*, /]` fact\n",
    "- add -> fact\n",
    "- fact -> `-` fact\n",
    "- fact -> num\n",
    "- fact -> `ID`\n"
   ],
   "cell_type": "markdown",
   "metadata": {}
  },
  {
   "source": [
    "## Requirements for implementation\n",
    "\n",
    "- Install [sly](https://sly.readthedocs.io/en/latest/) library: We will use this library to implement the interpreter.\n",
    "- Install [pandas](https://pandas.pydata.org/): We will use this library to import/represent data."
   ],
   "cell_type": "markdown",
   "metadata": {}
  },
  {
   "cell_type": "code",
   "execution_count": 178,
   "metadata": {
    "tags": []
   },
   "outputs": [],
   "source": [
    "%%capture --no-display\n",
    "\n",
    "!pip install sly\n",
    "!pip install pandas"
   ]
  },
  {
   "source": [
    "## Implementing the lexical analyzer (Lexer)"
   ],
   "cell_type": "markdown",
   "metadata": {}
  },
  {
   "cell_type": "code",
   "execution_count": 179,
   "metadata": {},
   "outputs": [],
   "source": [
    "from sly import Lexer\n",
    "\n",
    "class Scanner(Lexer):\n",
    "    tokens = {ID, CNUM, EQ, NEQ, OR, AND, LEQ, GEQ}\n",
    "    literals ={'=', '<', '>', '/', '!', '+', '-' , '*', ';'}\n",
    "\n",
    "    # Ignore whitespace and tabulations\n",
    "\n",
    "    ignore = ' \\t'\n",
    "\n",
    "    # Regular expressions rules for tokens\n",
    "\n",
    "    ID = r'[a-zA-Z][\\w_]*'\n",
    "    EQ = r'=='\n",
    "    NEQ = r'!='\n",
    "    GEQ = r'>='\n",
    "    LEQ = r'<='\n",
    "    AND = r'&&'\n",
    "    OR = r'\\|\\|'\n",
    "\n",
    "    @_(r'\\d+')\n",
    "    def CNUM(self, t):\n",
    "        t.value = int(t.value)\n",
    "        return t\n",
    "\n",
    "    # Error handling rule\n",
    "\n",
    "    def error(self, t):\n",
    "        print('<-'*10,\"Illegal character '{}'\".format(t.value[0]), '->'*10)\n",
    "        self.index += 1\n",
    "        t.type='Illegal'\n",
    "        t.value =t.value[0]\n",
    "        return t\n"
   ]
  },
  {
   "source": [
    "## Testing the lexical analyzer (Lexer)\n"
   ],
   "cell_type": "markdown",
   "metadata": {}
  },
  {
   "source": [
    "### Importing data"
   ],
   "cell_type": "markdown",
   "metadata": {}
  },
  {
   "cell_type": "code",
   "execution_count": 180,
   "metadata": {
    "tags": []
   },
   "outputs": [
    {
     "output_type": "execute_result",
     "data": {
      "text/plain": [
       "                                            sentences\n",
       "0                                           a = 5 + 5\n",
       "1                                                5+5 \n",
       "2                                                 5=5\n",
       "3                                                  =6\n",
       "4                                                  -5\n",
       "5                                               c =-6\n",
       "6                                                  -9\n",
       "7                          a = b = c = d = r = 5 + 54\n",
       "8                                          a = 5 - 54\n",
       "9                                              a = -5\n",
       "10                                  a = b = c  5 * 54\n",
       "11                                             a == b\n",
       "12                                         a && b = b\n",
       "13                                f = a && b + 5 * 56\n",
       "14                      a = f = a && b + 5 * 56 || !f\n",
       "15                                            a = ^56\n",
       "16                         a = 4 * 56  + 54 / 56 - 56\n",
       "17                  a = b = 6/ 4 * 56  + 54 / 56 - 56\n",
       "18  a = 4 && 56  || 54 != 56 ! 56 && a <= 89 || or..."
      ],
      "text/html": "<div>\n<style scoped>\n    .dataframe tbody tr th:only-of-type {\n        vertical-align: middle;\n    }\n\n    .dataframe tbody tr th {\n        vertical-align: top;\n    }\n\n    .dataframe thead th {\n        text-align: right;\n    }\n</style>\n<table border=\"1\" class=\"dataframe\">\n  <thead>\n    <tr style=\"text-align: right;\">\n      <th></th>\n      <th>sentences</th>\n    </tr>\n  </thead>\n  <tbody>\n    <tr>\n      <th>0</th>\n      <td>a = 5 + 5</td>\n    </tr>\n    <tr>\n      <th>1</th>\n      <td>5+5</td>\n    </tr>\n    <tr>\n      <th>2</th>\n      <td>5=5</td>\n    </tr>\n    <tr>\n      <th>3</th>\n      <td>=6</td>\n    </tr>\n    <tr>\n      <th>4</th>\n      <td>-5</td>\n    </tr>\n    <tr>\n      <th>5</th>\n      <td>c =-6</td>\n    </tr>\n    <tr>\n      <th>6</th>\n      <td>-9</td>\n    </tr>\n    <tr>\n      <th>7</th>\n      <td>a = b = c = d = r = 5 + 54</td>\n    </tr>\n    <tr>\n      <th>8</th>\n      <td>a = 5 - 54</td>\n    </tr>\n    <tr>\n      <th>9</th>\n      <td>a = -5</td>\n    </tr>\n    <tr>\n      <th>10</th>\n      <td>a = b = c  5 * 54</td>\n    </tr>\n    <tr>\n      <th>11</th>\n      <td>a == b</td>\n    </tr>\n    <tr>\n      <th>12</th>\n      <td>a &amp;&amp; b = b</td>\n    </tr>\n    <tr>\n      <th>13</th>\n      <td>f = a &amp;&amp; b + 5 * 56</td>\n    </tr>\n    <tr>\n      <th>14</th>\n      <td>a = f = a &amp;&amp; b + 5 * 56 || !f</td>\n    </tr>\n    <tr>\n      <th>15</th>\n      <td>a = ^56</td>\n    </tr>\n    <tr>\n      <th>16</th>\n      <td>a = 4 * 56  + 54 / 56 - 56</td>\n    </tr>\n    <tr>\n      <th>17</th>\n      <td>a = b = 6/ 4 * 56  + 54 / 56 - 56</td>\n    </tr>\n    <tr>\n      <th>18</th>\n      <td>a = 4 &amp;&amp; 56  || 54 != 56 ! 56 &amp;&amp; a &lt;= 89 || or...</td>\n    </tr>\n  </tbody>\n</table>\n</div>"
     },
     "metadata": {},
     "execution_count": 180
    }
   ],
   "source": [
    "import pandas as pd \n",
    "\n",
    "data = pd.read_csv('../assets/testing/sentences.csv')\n",
    "data[['sentences']]"
   ]
  },
  {
   "cell_type": "code",
   "execution_count": 46,
   "metadata": {
    "tags": []
   },
   "outputs": [
    {
     "output_type": "stream",
     "name": "stdout",
     "text": [
      "--------------------------------------------------------------------------------\n0 Lexically Testing sentence: 'a = 5 + 5'\n--------------------------------------------------------------------------------\n type = 'ID', value = 'a'\n type = '=', value = '='\n type = 'CNUM', value = '5'\n type = '+', value = '+'\n type = 'CNUM', value = '5'\n--------------------------------------------------------------------------------\n1 Lexically Testing sentence: '5+5 '\n--------------------------------------------------------------------------------\n type = 'CNUM', value = '5'\n type = '+', value = '+'\n type = 'CNUM', value = '5'\n--------------------------------------------------------------------------------\n2 Lexically Testing sentence: '5=5'\n--------------------------------------------------------------------------------\n type = 'CNUM', value = '5'\n type = '=', value = '='\n type = 'CNUM', value = '5'\n--------------------------------------------------------------------------------\n3 Lexically Testing sentence: '=6'\n--------------------------------------------------------------------------------\n type = '=', value = '='\n type = 'CNUM', value = '6'\n--------------------------------------------------------------------------------\n4 Lexically Testing sentence: '-5'\n--------------------------------------------------------------------------------\n type = '-', value = '-'\n type = 'CNUM', value = '5'\n--------------------------------------------------------------------------------\n5 Lexically Testing sentence: 'c =-6'\n--------------------------------------------------------------------------------\n type = 'ID', value = 'c'\n type = '=', value = '='\n type = '-', value = '-'\n type = 'CNUM', value = '6'\n--------------------------------------------------------------------------------\n6 Lexically Testing sentence: '-9'\n--------------------------------------------------------------------------------\n type = '-', value = '-'\n type = 'CNUM', value = '9'\n--------------------------------------------------------------------------------\n7 Lexically Testing sentence: 'a = b = c = d = r = 5 + 54'\n--------------------------------------------------------------------------------\n type = 'ID', value = 'a'\n type = '=', value = '='\n type = 'ID', value = 'b'\n type = '=', value = '='\n type = 'ID', value = 'c'\n type = '=', value = '='\n type = 'ID', value = 'd'\n type = '=', value = '='\n type = 'ID', value = 'r'\n type = '=', value = '='\n type = 'CNUM', value = '5'\n type = '+', value = '+'\n type = 'CNUM', value = '54'\n--------------------------------------------------------------------------------\n8 Lexically Testing sentence: 'a = 5 - 54'\n--------------------------------------------------------------------------------\n type = 'ID', value = 'a'\n type = '=', value = '='\n type = 'CNUM', value = '5'\n type = '-', value = '-'\n type = 'CNUM', value = '54'\n--------------------------------------------------------------------------------\n9 Lexically Testing sentence: 'a = -5'\n--------------------------------------------------------------------------------\n type = 'ID', value = 'a'\n type = '=', value = '='\n type = '-', value = '-'\n type = 'CNUM', value = '5'\n--------------------------------------------------------------------------------\n10 Lexically Testing sentence: 'a = b = c  5 * 54'\n--------------------------------------------------------------------------------\n type = 'ID', value = 'a'\n type = '=', value = '='\n type = 'ID', value = 'b'\n type = '=', value = '='\n type = 'ID', value = 'c'\n type = 'CNUM', value = '5'\n type = '*', value = '*'\n type = 'CNUM', value = '54'\n--------------------------------------------------------------------------------\n11 Lexically Testing sentence: 'a == b'\n--------------------------------------------------------------------------------\n type = 'ID', value = 'a'\n type = 'EQ', value = '=='\n type = 'ID', value = 'b'\n--------------------------------------------------------------------------------\n12 Lexically Testing sentence: 'a && b = b'\n--------------------------------------------------------------------------------\n type = 'ID', value = 'a'\n type = 'AND', value = '&&'\n type = 'ID', value = 'b'\n type = '=', value = '='\n type = 'ID', value = 'b'\n--------------------------------------------------------------------------------\n13 Lexically Testing sentence: 'f = a && b + 5 * 56'\n--------------------------------------------------------------------------------\n type = 'ID', value = 'f'\n type = '=', value = '='\n type = 'ID', value = 'a'\n type = 'AND', value = '&&'\n type = 'ID', value = 'b'\n type = '+', value = '+'\n type = 'CNUM', value = '5'\n type = '*', value = '*'\n type = 'CNUM', value = '56'\n--------------------------------------------------------------------------------\n14 Lexically Testing sentence: 'a = f = a && b + 5 * 56 || !f'\n--------------------------------------------------------------------------------\n type = 'ID', value = 'a'\n type = '=', value = '='\n type = 'ID', value = 'f'\n type = '=', value = '='\n type = 'ID', value = 'a'\n type = 'AND', value = '&&'\n type = 'ID', value = 'b'\n type = '+', value = '+'\n type = 'CNUM', value = '5'\n type = '*', value = '*'\n type = 'CNUM', value = '56'\n type = 'OR', value = '||'\n type = '!', value = '!'\n type = 'ID', value = 'f'\n--------------------------------------------------------------------------------\n15 Lexically Testing sentence: 'a = ^56'\n--------------------------------------------------------------------------------\n type = 'ID', value = 'a'\n type = '=', value = '='\n<-<-<-<-<-<-<-<-<-<- Illegal character '^' ->->->->->->->->->->\n type = 'Illegal', value = '^'\n type = 'CNUM', value = '56'\n--------------------------------------------------------------------------------\n16 Lexically Testing sentence: 'a = 4 * 56  + 54 / 56 - 56'\n--------------------------------------------------------------------------------\n type = 'ID', value = 'a'\n type = '=', value = '='\n type = 'CNUM', value = '4'\n type = '*', value = '*'\n type = 'CNUM', value = '56'\n type = '+', value = '+'\n type = 'CNUM', value = '54'\n type = '/', value = '/'\n type = 'CNUM', value = '56'\n type = '-', value = '-'\n type = 'CNUM', value = '56'\n--------------------------------------------------------------------------------\n17 Lexically Testing sentence: 'a = b = 6/ 4 * 56  + 54 / 56 - 56'\n--------------------------------------------------------------------------------\n type = 'ID', value = 'a'\n type = '=', value = '='\n type = 'ID', value = 'b'\n type = '=', value = '='\n type = 'CNUM', value = '6'\n type = '/', value = '/'\n type = 'CNUM', value = '4'\n type = '*', value = '*'\n type = 'CNUM', value = '56'\n type = '+', value = '+'\n type = 'CNUM', value = '54'\n type = '/', value = '/'\n type = 'CNUM', value = '56'\n type = '-', value = '-'\n type = 'CNUM', value = '56'\n--------------------------------------------------------------------------------\n18 Lexically Testing sentence: 'a = 4 && 56  || 54 != 56 ! 56 && a <= 89 || or b < 3'\n--------------------------------------------------------------------------------\n type = 'ID', value = 'a'\n type = '=', value = '='\n type = 'CNUM', value = '4'\n type = 'AND', value = '&&'\n type = 'CNUM', value = '56'\n type = 'OR', value = '||'\n type = 'CNUM', value = '54'\n type = 'NEQ', value = '!='\n type = 'CNUM', value = '56'\n type = '!', value = '!'\n type = 'CNUM', value = '56'\n type = 'AND', value = '&&'\n type = 'ID', value = 'a'\n type = 'LEQ', value = '<='\n type = 'CNUM', value = '89'\n type = 'OR', value = '||'\n type = 'ID', value = 'or'\n type = 'ID', value = 'b'\n type = '<', value = '<'\n type = 'CNUM', value = '3'\n"
     ]
    }
   ],
   "source": [
    "lexer = Scanner()\n",
    "sentences = data['sentences'].values\n",
    "pass_or_not = []\n",
    "all_token_pass = True\n",
    "\n",
    "for index, sentence in enumerate(sentences):\n",
    "    print('-' * 80,\"{} Lexically Testing sentence: '{}'\".format(index, sentence),'-' * 80, sep='\\n')\n",
    "    for token in lexer.tokenize(sentence):\n",
    "        print(\" type = '{}', value = '{}'\".format(token.type, token.value))\n",
    "        if all_token_pass and 'Illegal' in token.type:\n",
    "            all_token_pass = False\n",
    "    \n",
    "    pass_or_not.append('Pass') if all_token_pass else pass_or_not.append('FAIL')\n",
    "    all_token_pass = True\n",
    "\n",
    "data['Test'] = pass_or_not"
   ]
  },
  {
   "cell_type": "code",
   "execution_count": 5,
   "metadata": {},
   "outputs": [
    {
     "output_type": "execute_result",
     "data": {
      "text/plain": [
       "                                            sentences  Test\n",
       "0                                           a = 5 + 5  Pass\n",
       "1                                                5+5   Pass\n",
       "2                                                 5=5  Pass\n",
       "3                                                  =6  Pass\n",
       "4                                                  -5  Pass\n",
       "5                                               c =-6  Pass\n",
       "6                                                  -9  Pass\n",
       "7                          a = b = c = d = r = 5 + 54  Pass\n",
       "8                                          a = 5 - 54  Pass\n",
       "9                                              a = -5  Pass\n",
       "10                                  a = b = c  5 * 54  Pass\n",
       "11                                             a == b  Pass\n",
       "12                                         a && b = b  Pass\n",
       "13                                f = a && b + 5 * 56  Pass\n",
       "14                      a = f = a && b + 5 * 56 || !f  Pass\n",
       "15                                            a = ^56  FAIL\n",
       "16                         a = 4 * 56  + 54 / 56 - 56  Pass\n",
       "17                  a = b = 6/ 4 * 56  + 54 / 56 - 56  Pass\n",
       "18  a = 4 && 56  || 54 != 56 ! 56 && a <= 89 || or...  Pass"
      ],
      "text/html": "<div>\n<style scoped>\n    .dataframe tbody tr th:only-of-type {\n        vertical-align: middle;\n    }\n\n    .dataframe tbody tr th {\n        vertical-align: top;\n    }\n\n    .dataframe thead th {\n        text-align: right;\n    }\n</style>\n<table border=\"1\" class=\"dataframe\">\n  <thead>\n    <tr style=\"text-align: right;\">\n      <th></th>\n      <th>sentences</th>\n      <th>Test</th>\n    </tr>\n  </thead>\n  <tbody>\n    <tr>\n      <th>0</th>\n      <td>a = 5 + 5</td>\n      <td>Pass</td>\n    </tr>\n    <tr>\n      <th>1</th>\n      <td>5+5</td>\n      <td>Pass</td>\n    </tr>\n    <tr>\n      <th>2</th>\n      <td>5=5</td>\n      <td>Pass</td>\n    </tr>\n    <tr>\n      <th>3</th>\n      <td>=6</td>\n      <td>Pass</td>\n    </tr>\n    <tr>\n      <th>4</th>\n      <td>-5</td>\n      <td>Pass</td>\n    </tr>\n    <tr>\n      <th>5</th>\n      <td>c =-6</td>\n      <td>Pass</td>\n    </tr>\n    <tr>\n      <th>6</th>\n      <td>-9</td>\n      <td>Pass</td>\n    </tr>\n    <tr>\n      <th>7</th>\n      <td>a = b = c = d = r = 5 + 54</td>\n      <td>Pass</td>\n    </tr>\n    <tr>\n      <th>8</th>\n      <td>a = 5 - 54</td>\n      <td>Pass</td>\n    </tr>\n    <tr>\n      <th>9</th>\n      <td>a = -5</td>\n      <td>Pass</td>\n    </tr>\n    <tr>\n      <th>10</th>\n      <td>a = b = c  5 * 54</td>\n      <td>Pass</td>\n    </tr>\n    <tr>\n      <th>11</th>\n      <td>a == b</td>\n      <td>Pass</td>\n    </tr>\n    <tr>\n      <th>12</th>\n      <td>a &amp;&amp; b = b</td>\n      <td>Pass</td>\n    </tr>\n    <tr>\n      <th>13</th>\n      <td>f = a &amp;&amp; b + 5 * 56</td>\n      <td>Pass</td>\n    </tr>\n    <tr>\n      <th>14</th>\n      <td>a = f = a &amp;&amp; b + 5 * 56 || !f</td>\n      <td>Pass</td>\n    </tr>\n    <tr>\n      <th>15</th>\n      <td>a = ^56</td>\n      <td>FAIL</td>\n    </tr>\n    <tr>\n      <th>16</th>\n      <td>a = 4 * 56  + 54 / 56 - 56</td>\n      <td>Pass</td>\n    </tr>\n    <tr>\n      <th>17</th>\n      <td>a = b = 6/ 4 * 56  + 54 / 56 - 56</td>\n      <td>Pass</td>\n    </tr>\n    <tr>\n      <th>18</th>\n      <td>a = 4 &amp;&amp; 56  || 54 != 56 ! 56 &amp;&amp; a &lt;= 89 || or...</td>\n      <td>Pass</td>\n    </tr>\n  </tbody>\n</table>\n</div>"
     },
     "metadata": {},
     "execution_count": 5
    }
   ],
   "source": [
    "data"
   ]
  },
  {
   "source": [
    "## Implementing the Grammar and Semantic Analyzer (Parser)"
   ],
   "cell_type": "markdown",
   "metadata": {}
  },
  {
   "cell_type": "code",
   "execution_count": 173,
   "metadata": {},
   "outputs": [],
   "source": [
    "from sly import Parser\n",
    "\n",
    "class CInterpreterParser(Parser):\n",
    "    tokens = Scanner.tokens\n",
    "\n",
    "    def __init__(self):\n",
    "        self.table = {}\n",
    "    # - def -> asign `;`\n",
    "    # - asign -> ID `=` asign\n",
    "    # - asign -> expr\n",
    "    # - expr -> exprOR\n",
    "    # - exprOR -> exprOR `||` exprAND\n",
    "    # - exprOR -> exprAND\n",
    "    # - exprAND -> exprAND `&&` exprE\n",
    "    # - exprAND -> exprE\n",
    "    # - exprE -> exprE `[==, !=]` exprC\n",
    "    # - exprE -> exprC\n",
    "    # - exprC -> exprC `[<, <=, >, >=]` exprA\n",
    "    # - exprC -> exprA\n",
    "    # - exprA -> exprA `[+, -] ` add\n",
    "    # - exprA -> add\n",
    "    # - add -> add `[*, /]` fact\n",
    "    # - add -> fact\n",
    "    # - fact -> `-` fact\n",
    "    # - fact -> num\n",
    "    # - fact -> `ID`\n",
    "\n",
    "    @_('asign \";\"')\n",
    "    def def_(self, p):\n",
    "        pass\n",
    "    @_('ID \"=\" asign')\n",
    "    def asign(self, p):\n",
    "        self.table[p.ID] = p.asign  \n",
    "        return p.asign\n",
    "\n",
    "    @_('expr')\n",
    "    def asign(self, p):\n",
    "        return p.expr\n",
    "\n",
    "    @_('exprOR')\n",
    "    def expr(self, p):\n",
    "        return p.exprOR\n",
    "\n",
    "    @_('exprOR OR exprAND')\n",
    "    def exprOR(self, p):\n",
    "        return bool(p.exprOR) | bool(p.exprAND)\n",
    "\n",
    "    @_('exprAND')\n",
    "    def exprOR(self, p):\n",
    "        return p.exprAND\n",
    "\n",
    "    @_('exprAND AND exprE')\n",
    "    def exprAND(self, p):\n",
    "        return bool(p.exprAND) & bool(p.exprE)\n",
    "\n",
    "    @_('exprE') \n",
    "    def exprAND(self, p):\n",
    "        return p.exprE\n",
    "\n",
    "    @_('exprE NEQ exprC')\n",
    "    def exprE(self, p):\n",
    "        return p.exprE != p.exprC\n",
    "\n",
    "    @_('exprE EQ exprC')\n",
    "    def exprE(self, p):\n",
    "        return p.exprE == p.exprC\n",
    "\n",
    "    @_('exprC')\n",
    "    def exprE(self, p):\n",
    "        print(p.exprC)\n",
    "        return p.exprC\n",
    "    \n",
    "    @_('exprC GEQ exprA')\n",
    "    def exprC(self, p):\n",
    "        return bool(p.exprC) < bool(p.exprA)\n",
    "\n",
    "    @_('exprC \">\" exprA')\n",
    "    def exprC(self, p):\n",
    "        return bool(p.exprC) > bool(p.exprA)\n",
    "\n",
    "    @_('exprC LEQ exprA')\n",
    "    def exprC(self, p):\n",
    "        return bool(p.exprC) <= bool(p.exprA)\n",
    "\n",
    "    @_('exprC \"<\" exprA')\n",
    "    def exprC(self, p):\n",
    "        return bool(p.exprC) < bool(p.exprA)\n",
    "\n",
    "    @_('exprA')\n",
    "    def exprC(self, p):\n",
    "        return p.exprA\n",
    "\n",
    "    @_('exprA \"-\" add')\n",
    "    def exprA(self, p):\n",
    "        return p.exprA - p.add\n",
    "    \n",
    "    @_('exprA \"+\" add')\n",
    "    def exprA(self, p):\n",
    "        return p.exprA + p.add\n",
    "\n",
    "    @_('add')\n",
    "    def exprA(self, p):\n",
    "        return p.add\n",
    "\n",
    "    @_('add \"/\" fact')\n",
    "    def add(self, p):\n",
    "        return p.add / p.fact\n",
    "\n",
    "    @_('add \"*\" fact')\n",
    "    def add(self, p):\n",
    "        return p.add * p.fact\n",
    "\n",
    "    @_('fact')\n",
    "    def add(self, p):\n",
    "        return p.fact\n",
    "\n",
    "    @_('\"-\" fact')\n",
    "    def fact(self, p):\n",
    "        return -p.fact\n",
    "\n",
    "    @_('CNUM')\n",
    "    def fact(self, p):\n",
    "        return p.CNUM\n",
    "\n",
    "    @_('ID')\n",
    "    def fact(self, p):\n",
    "        try:\n",
    "            return self.table[p.ID]\n",
    "        except LookupError:\n",
    "            print(\"Undefined name {}\".format(p.ID))\n",
    "            return 0\n"
   ]
  },
  {
   "cell_type": "code",
   "execution_count": 176,
   "metadata": {},
   "outputs": [
    {
     "output_type": "stream",
     "name": "stdout",
     "text": [
      "-65\n"
     ]
    }
   ],
   "source": [
    "if __name__ == '__main__':\n",
    "    lexer = Scanner()\n",
    "    parser = CInterpreterParser()\n",
    "    string = \"b = c = r = 2 + -67;\"\n",
    "    parser.parse(lexer.tokenize(string))"
   ]
  },
  {
   "cell_type": "code",
   "execution_count": 177,
   "metadata": {},
   "outputs": [
    {
     "output_type": "execute_result",
     "data": {
      "text/plain": [
       "{'r': -65, 'c': -65, 'b': -65}"
      ]
     },
     "metadata": {},
     "execution_count": 177
    }
   ],
   "source": [
    "parser.table"
   ]
  }
 ]
}