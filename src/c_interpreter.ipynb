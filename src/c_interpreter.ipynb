{
 "metadata": {
  "language_info": {
   "codemirror_mode": {
    "name": "ipython",
    "version": 3
   },
   "file_extension": ".py",
   "mimetype": "text/x-python",
   "name": "python",
   "nbconvert_exporter": "python",
   "pygments_lexer": "ipython3",
   "version": "3.8.6-final"
  },
  "orig_nbformat": 2,
  "kernelspec": {
   "name": "Python 3.8.6 64-bit ('.env')",
   "display_name": "Python 3.8.6 64-bit ('.env')",
   "metadata": {
    "interpreter": {
     "hash": "fea7d090d7f08540b567637e36dfbc75bfa7df7c6c7bc7b97753f3e7b84a3bdc"
    }
   }
  }
 },
 "nbformat": 4,
 "nbformat_minor": 2,
 "cells": [
  {
   "source": [
    "# C interpreter\n",
    "\n",
    "### 1. First aproximation\n",
    "\n",
    "Design a agrammar using an upward translation that accepts the following inputs from the C language:\n",
    "\n",
    "- Assignment statements `(a = 5, a = b = c = 5)`\n",
    "- Comparison operators `(==, <=, >=, !=)`\n",
    "- Logical Operators `(&&, ||, !)`\n",
    "- Arithmetic operators `(+, - , *, / and unary minus)`\n",
    "- Variables and numerical constants `(a, 5)`\n",
    "\n"
   ],
   "cell_type": "markdown",
   "metadata": {}
  },
  {
   "source": [
    "# Grammar design\n",
    "First to design our grammar we have to now the precedence and the associativity of the operators.\n",
    "\n",
    "## C operator precedence\n",
    "\n",
    "The C operator predecence that we have to implement in our grammar is in this precedence order following [C operator Precedence](https://en.cppreference.com/w/c/language/operator_precedence) found in cppreference website:\n",
    "\n",
    "1. Variables and numerical constants\n",
    "2. Unary minus and Logical NOT\n",
    "3. Arithmetic operators    \n",
    "    - Multiplication, division, and reminder\n",
    "    - addition and subtraction\n",
    "4. Comparison operators\n",
    "    - lt, gt, let, get\n",
    "    - equals and not equals\n",
    "4. Logical operators\n",
    "    - Logical AND \n",
    "    - Logical OR\n",
    "5.  Assignment statements\n",
    "\n",
    "## Operator Associativity\n",
    "\n",
    "In the same website we can see the operator associativity in summary:\n",
    "\n",
    "### Right to Left\n",
    "\n",
    "- Logical NOT and unary minus\n",
    "- Simple asisignment\n",
    "\n",
    "### Left to Right\n",
    "\n",
    "- Arithmetic operator\n",
    "- Comparison operators \n",
    "- Logical Operators \n"
   ],
   "cell_type": "markdown",
   "metadata": {}
  },
  {
   "source": [
    "## Tokens and non-terminal symbols\n",
    "\n",
    "The non terminal symbols and tokens that we need to represent our language are:\n",
    "- ID: to represent the variables `[a-zA-Z][\\w_]*`\n",
    "- CNUM: Numeric constants to represent the variable values or literal values, integer values for now.\n",
    "- Operators: `[==, <=, >=, !=, &&, ||, !, +, - , *, / and unary minus]`"
   ],
   "cell_type": "markdown",
   "metadata": {}
  },
  {
   "source": [
    "## Grammar design\n",
    "\n",
    "- def -> asign `;`\n",
    "- asign -> ID `=` asign\n",
    "- asign -> expr\n",
    "- expr -> exprOR\n",
    "- exprOR -> exprOR `||` exprAND\n",
    "- exprOR -> exprAND\n",
    "- exprAND -> exprAND `&&` exprE\n",
    "- exprAND -> exprE\n",
    "- exprE -> exprE `[==, !=]` exprC\n",
    "- exprE -> exprC\n",
    "- exprC -> exprC `[<, <=, >, >=]` exprA\n",
    "- exprC -> exprA\n",
    "- exprA -> exprA `[+, -] ` add\n",
    "- exprA -> add\n",
    "- add -> add `[*, /]` fact\n",
    "- add -> fact\n",
    "- fact -> `-` fact\n",
    "- fact -> num\n",
    "- fact -> `ID`\n"
   ],
   "cell_type": "markdown",
   "metadata": {}
  },
  {
   "source": [
    "## Requirements for implementation\n",
    "\n",
    "- Install [sly](https://sly.readthedocs.io/en/latest/) library: We will use this library to implement the interpreter.\n",
    "- Install [pandas](https://pandas.pydata.org/): We will use this library to import/represent data."
   ],
   "cell_type": "markdown",
   "metadata": {}
  },
  {
   "cell_type": "code",
   "execution_count": 5,
   "metadata": {
    "tags": []
   },
   "outputs": [
    {
     "output_type": "stream",
     "name": "stdout",
     "text": "Requirement already satisfied: sly in c:\\users\\los_g\\onedrive\\documentos\\pl\\pl-2020\\prácticas\\c-interpreter\\.env\\lib\\site-packages (0.4)\nWARNING: You are using pip version 20.2.1; however, version 20.2.3 is available.\nYou should consider upgrading via the &#39;c:\\users\\los_g\\onedrive\\documentos\\pl\\pl-2020\\prácticas\\c-interpreter\\.env\\scripts\\python.exe -m pip install --upgrade pip&#39; command.\n"
    }
   ],
   "source": [
    "!pip install sly\n",
    "!pip install pandas"
   ]
  },
  {
   "source": [
    "## Implementing the lexical analyzer (Lexer)"
   ],
   "cell_type": "markdown",
   "metadata": {}
  },
  {
   "cell_type": "code",
   "execution_count": 117,
   "metadata": {},
   "outputs": [],
   "source": [
    "from sly import Lexer\n",
    "\n",
    "class Scanner(Lexer):\n",
    "    tokens = {ID, CNUM, EQ, NEQ, OR, AND, LET, GET}\n",
    "    literals ={'=', '<', '>', '/', '!', '+', '-' , '*'}\n",
    "\n",
    "    # Ignore whitespace and tabulations\n",
    "\n",
    "    ignore = ' \\t'\n",
    "\n",
    "    # Regular expressions rules for tokens\n",
    "\n",
    "    ID = r'[a-zA-Z][\\w_]*'\n",
    "    EQ = r'=='\n",
    "    NEQ = r'!='\n",
    "    GET = r'>='\n",
    "    LET = r'<='\n",
    "    AND = r'&&'\n",
    "    OR = r'\\|\\|'\n",
    "    CNUM = r'[\\d]+'\n",
    "\n",
    "    # Error handling rule\n",
    "\n",
    "    def error(self, t):\n",
    "        print('<-'*10,\"Illegal character '{}'\".format(t.value[0]), '->'*10)\n",
    "        self.index += 1\n",
    "        t.type='Illegal'\n",
    "        t.value =t.value[0]\n",
    "        return t\n"
   ]
  },
  {
   "source": [
    "## Testing the lexical analyzer (Lexer)"
   ],
   "cell_type": "markdown",
   "metadata": {}
  },
  {
   "cell_type": "code",
   "execution_count": 118,
   "metadata": {
    "tags": []
   },
   "outputs": [
    {
     "output_type": "execute_result",
     "data": {
      "text/plain": "                                            sentences\n0                                           a = 5 + 5\n1                                                5+5 \n2                                                 5=5\n3                                                  =6\n4                                                  -5\n5                                               c =-6\n6                                                  -9\n7                          a = b = c = d = r = 5 + 54\n8                                          a = 5 - 54\n9                                              a = -5\n10                                  a = b = c  5 * 54\n11                                             a == b\n12                                         a &amp;&amp; b = b\n13                                f = a &amp;&amp; b + 5 * 56\n14                      a = f = a &amp;&amp; b + 5 * 56 || !f\n15                                            a = ^56\n16                         a = 4 * 56  + 54 / 56 - 56\n17                  a = b = 6/ 4 * 56  + 54 / 56 - 56\n18  a = 4 &amp;&amp; 56  || 54 != 56 ! 56 &amp;&amp; a &lt;= 89 || or...",
      "text/html": "<div>\n<style scoped>\n    .dataframe tbody tr th:only-of-type {\n        vertical-align: middle;\n    }\n\n    .dataframe tbody tr th {\n        vertical-align: top;\n    }\n\n    .dataframe thead th {\n        text-align: right;\n    }\n</style>\n<table border=\"1\" class=\"dataframe\">\n  <thead>\n    <tr style=\"text-align: right;\">\n      <th></th>\n      <th>sentences</th>\n    </tr>\n  </thead>\n  <tbody>\n    <tr>\n      <th>0</th>\n      <td>a = 5 + 5</td>\n    </tr>\n    <tr>\n      <th>1</th>\n      <td>5+5</td>\n    </tr>\n    <tr>\n      <th>2</th>\n      <td>5=5</td>\n    </tr>\n    <tr>\n      <th>3</th>\n      <td>=6</td>\n    </tr>\n    <tr>\n      <th>4</th>\n      <td>-5</td>\n    </tr>\n    <tr>\n      <th>5</th>\n      <td>c =-6</td>\n    </tr>\n    <tr>\n      <th>6</th>\n      <td>-9</td>\n    </tr>\n    <tr>\n      <th>7</th>\n      <td>a = b = c = d = r = 5 + 54</td>\n    </tr>\n    <tr>\n      <th>8</th>\n      <td>a = 5 - 54</td>\n    </tr>\n    <tr>\n      <th>9</th>\n      <td>a = -5</td>\n    </tr>\n    <tr>\n      <th>10</th>\n      <td>a = b = c  5 * 54</td>\n    </tr>\n    <tr>\n      <th>11</th>\n      <td>a == b</td>\n    </tr>\n    <tr>\n      <th>12</th>\n      <td>a &amp;&amp; b = b</td>\n    </tr>\n    <tr>\n      <th>13</th>\n      <td>f = a &amp;&amp; b + 5 * 56</td>\n    </tr>\n    <tr>\n      <th>14</th>\n      <td>a = f = a &amp;&amp; b + 5 * 56 || !f</td>\n    </tr>\n    <tr>\n      <th>15</th>\n      <td>a = ^56</td>\n    </tr>\n    <tr>\n      <th>16</th>\n      <td>a = 4 * 56  + 54 / 56 - 56</td>\n    </tr>\n    <tr>\n      <th>17</th>\n      <td>a = b = 6/ 4 * 56  + 54 / 56 - 56</td>\n    </tr>\n    <tr>\n      <th>18</th>\n      <td>a = 4 &amp;&amp; 56  || 54 != 56 ! 56 &amp;&amp; a &lt;= 89 || or...</td>\n    </tr>\n  </tbody>\n</table>\n</div>"
     },
     "metadata": {},
     "execution_count": 118
    }
   ],
   "source": [
    "import pandas as pd \n",
    "\n",
    "data = pd.read_csv('../assets/testing/sentences.csv')\n",
    "data[['sentences']]\n",
    "\n",
    "\n",
    "\n",
    "\n"
   ]
  },
  }
 ]
}